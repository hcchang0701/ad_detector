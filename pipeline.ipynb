{
 "cells": [
  {
   "cell_type": "code",
   "execution_count": 1,
   "id": "9f80b499",
   "metadata": {},
   "outputs": [],
   "source": [
    "import numpy as np\n",
    "\n",
    "height = 270\n",
    "width = 480\n",
    "fps = 30\n",
    "\n",
    "# read data as unsigned bytes\n",
    "raw_bytes = np.fromfile(\"./dataset/Videos/data_test1.rgb\", np.dtype('B'))\n",
    "\n",
    "n_frames = len(raw_bytes)//(height*width*3)\n",
    "frames = raw_bytes.reshape((n_frames, 3, height, width))\n",
    "frames = np.moveaxis(frames, 1, -1)  # pack rgb values per pixel"
   ]
  },
  {
   "cell_type": "code",
   "execution_count": 2,
   "id": "6403e8e4",
   "metadata": {},
   "outputs": [
    {
     "data": {
      "text/plain": [
       "array([[248, 253, 255],\n",
       "       [249, 254, 255],\n",
       "       [249, 254, 255],\n",
       "       ...,\n",
       "       [  0,   0,   0],\n",
       "       [  0,   0,   0],\n",
       "       [  0,   0,   0]], dtype=uint8)"
      ]
     },
     "execution_count": 2,
     "metadata": {},
     "output_type": "execute_result"
    }
   ],
   "source": [
    "frames[0][0]  # first row of the first frame"
   ]
  },
  {
   "cell_type": "code",
   "execution_count": 3,
   "id": "098ca43b",
   "metadata": {},
   "outputs": [
    {
     "data": {
      "text/plain": [
       "0"
      ]
     },
     "execution_count": 3,
     "metadata": {},
     "output_type": "execute_result"
    }
   ],
   "source": [
    "import ffmpeg\n",
    "\n",
    "dest = \"./dataset/Videos/data_test1.avi\"\n",
    "\n",
    "# convert rgb frames to standard video format\n",
    "process = (\n",
    "    ffmpeg\n",
    "    .input('pipe:', format='rawvideo', pix_fmt='rgb24', s='{}x{}'.format(width, height), framerate=fps)\n",
    "    .output(dest, pix_fmt='yuv420p', vcodec=\"libx264\")\n",
    "    .overwrite_output()\n",
    "    .run_async(pipe_stdin=True, overwrite_output=True, pipe_stderr=True)\n",
    ")\n",
    "\n",
    "for frame in frames:\n",
    "    process.stdin.write(frame.astype(np.uint8).tobytes())\n",
    "    \n",
    "process.stdin.close()\n",
    "process.wait()"
   ]
  },
  {
   "cell_type": "code",
   "execution_count": 4,
   "id": "01c58fa6",
   "metadata": {},
   "outputs": [
    {
     "name": "stderr",
     "output_type": "stream",
     "text": [
      "ffmpeg version 5.0.1 Copyright (c) 2000-2022 the FFmpeg developers\n",
      "  built with Apple clang version 13.1.6 (clang-1316.0.21.2)\n",
      "  configuration: --prefix=/opt/homebrew/Cellar/ffmpeg/5.0.1 --enable-shared --enable-pthreads --enable-version3 --cc=clang --host-cflags= --host-ldflags= --enable-ffplay --enable-gnutls --enable-gpl --enable-libaom --enable-libbluray --enable-libdav1d --enable-libmp3lame --enable-libopus --enable-librav1e --enable-librist --enable-librubberband --enable-libsnappy --enable-libsrt --enable-libtesseract --enable-libtheora --enable-libvidstab --enable-libvmaf --enable-libvorbis --enable-libvpx --enable-libwebp --enable-libx264 --enable-libx265 --enable-libxml2 --enable-libxvid --enable-lzma --enable-libfontconfig --enable-libfreetype --enable-frei0r --enable-libass --enable-libopencore-amrnb --enable-libopencore-amrwb --enable-libopenjpeg --enable-libspeex --enable-libsoxr --enable-libzmq --enable-libzimg --disable-libjack --disable-indev=jack --enable-videotoolbox --enable-neon\n",
      "  libavutil      57. 17.100 / 57. 17.100\n",
      "  libavcodec     59. 18.100 / 59. 18.100\n",
      "  libavformat    59. 16.100 / 59. 16.100\n",
      "  libavdevice    59.  4.100 / 59.  4.100\n",
      "  libavfilter     8. 24.100 /  8. 24.100\n",
      "  libswscale      6.  4.100 /  6.  4.100\n",
      "  libswresample   4.  3.100 /  4.  3.100\n",
      "  libpostproc    56.  3.100 / 56.  3.100\n",
      "Input #0, avi, from './dataset/Videos/data_test1.avi':\n",
      "  Metadata:\n",
      "    software        : Lavf59.16.100\n",
      "  Duration: 00:05:00.00, start: 0.000000, bitrate: 918 kb/s\n",
      "  Stream #0:0: Video: h264 (High) (H264 / 0x34363248), yuv420p(progressive), 480x270, 912 kb/s, 30 fps, 30 tbr, 30 tbn\n",
      "Guessed Channel Layout for Input Stream #1.0 : mono\n",
      "Input #1, wav, from './dataset/Videos/data_test1.wav':\n",
      "  Duration: 00:04:59.88, bitrate: 768 kb/s\n",
      "  Stream #1:0: Audio: pcm_s16le ([1][0][0][0] / 0x0001), 48000 Hz, mono, s16, 768 kb/s\n",
      "Stream mapping:\n",
      "  Stream #0:0 -> #0:0 (h264 (native) -> h264 (libx264))\n",
      "  Stream #1:0 -> #0:1 (pcm_s16le (native) -> mp3 (libmp3lame))\n",
      "Press [q] to stop, [?] for help\n",
      "[libx264 @ 0x12e705390] using cpu capabilities: ARMv8 NEON\n",
      "[libx264 @ 0x12e705390] profile High, level 2.1, 4:2:0, 8-bit\n",
      "Output #0, avi, to './dataset/Videos/data_test1_cmb.avi':\n",
      "  Metadata:\n",
      "    software        : Lavf59.16.100\n",
      "    ISFT            : Lavf59.16.100\n",
      "  Stream #0:0: Video: h264 (H264 / 0x34363248), yuv420p(progressive), 480x270, q=2-31, 30 fps, 30 tbn\n",
      "    Metadata:\n",
      "      encoder         : Lavc59.18.100 libx264\n",
      "    Side data:\n",
      "      cpb: bitrate max/min/avg: 0/0/0 buffer size: 0 vbv_delay: N/A\n",
      "  Stream #0:1: Audio: mp3 (U[0][0][0] / 0x0055), 48000 Hz, mono, s16p\n",
      "    Metadata:\n",
      "      encoder         : Lavc59.18.100 libmp3lame\n",
      "frame= 9000 fps=573 q=-1.0 Lsize=   33621kB time=00:05:00.00 bitrate= 918.1kbits/s speed=19.1x    \n",
      "video:30760kB audio:2343kB subtitle:0kB other streams:0kB global headers:0kB muxing overhead: 1.564667%\n",
      "[libx264 @ 0x12e705390] frame I:54    Avg QP:21.81  size: 23922\n",
      "[libx264 @ 0x12e705390] frame P:3104  Avg QP:26.08  size:  7275\n",
      "[libx264 @ 0x12e705390] frame B:5842  Avg QP:30.41  size:  1305\n",
      "[libx264 @ 0x12e705390] consecutive B-frames:  6.6% 18.2%  7.4% 67.8%\n",
      "[libx264 @ 0x12e705390] mb I  I16..4:  3.9% 41.6% 54.5%\n",
      "[libx264 @ 0x12e705390] mb P  I16..4:  1.0%  3.8%  2.2%  P16..4: 32.1% 31.3% 22.1%  0.0%  0.0%    skip: 7.6%\n",
      "[libx264 @ 0x12e705390] mb B  I16..4:  0.1%  0.2%  0.1%  B16..8: 49.3% 11.9%  3.0%  direct: 2.2%  skip:33.3%  L0:39.0% L1:44.5% BI:16.5%\n",
      "[libx264 @ 0x12e705390] 8x8 transform intra:52.0% inter:58.5%\n",
      "[libx264 @ 0x12e705390] coded y,uvDC,uvAC intra: 70.2% 67.5% 31.8% inter: 25.0% 13.3% 1.2%\n",
      "[libx264 @ 0x12e705390] i16 v,h,dc,p: 37% 24% 18% 21%\n",
      "[libx264 @ 0x12e705390] i8 v,h,dc,ddl,ddr,vr,hd,vl,hu: 18% 19% 27%  4%  5%  5%  7%  5%  8%\n",
      "[libx264 @ 0x12e705390] i4 v,h,dc,ddl,ddr,vr,hd,vl,hu: 24% 20% 17%  5%  6%  7%  7%  6%  7%\n",
      "[libx264 @ 0x12e705390] i8c dc,h,v,p: 56% 19% 20%  4%\n",
      "[libx264 @ 0x12e705390] Weighted P-Frames: Y:34.7% UV:11.6%\n",
      "[libx264 @ 0x12e705390] ref P L0: 64.4% 23.6%  8.7%  2.8%  0.5%\n",
      "[libx264 @ 0x12e705390] ref B L0: 93.7%  5.4%  1.0%\n",
      "[libx264 @ 0x12e705390] ref B L1: 96.8%  3.2%\n",
      "[libx264 @ 0x12e705390] kb/s:839.96\n"
     ]
    },
    {
     "data": {
      "text/plain": [
       "(None, None)"
      ]
     },
     "execution_count": 4,
     "metadata": {},
     "output_type": "execute_result"
    }
   ],
   "source": [
    "# join video and audio\n",
    "input_video = ffmpeg.input(\"./dataset/Videos/data_test1.avi\")\n",
    "input_audio = ffmpeg.input(\"./dataset/Videos/data_test1.wav\")\n",
    "\n",
    "dest = \"./dataset/Videos/data_test1_cmb.avi\"\n",
    "ffmpeg.output(input_video, input_audio, dest, pix_fmt='yuv420p', vcodec=\"libx264\").overwrite_output().run()"
   ]
  }
 ],
 "metadata": {
  "kernelspec": {
   "display_name": "Python 3 (ipykernel)",
   "language": "python",
   "name": "python3"
  },
  "language_info": {
   "codemirror_mode": {
    "name": "ipython",
    "version": 3
   },
   "file_extension": ".py",
   "mimetype": "text/x-python",
   "name": "python",
   "nbconvert_exporter": "python",
   "pygments_lexer": "ipython3",
   "version": "3.9.12"
  }
 },
 "nbformat": 4,
 "nbformat_minor": 5
}
